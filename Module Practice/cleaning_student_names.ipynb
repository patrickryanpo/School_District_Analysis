{
 "metadata": {
  "language_info": {
   "codemirror_mode": {
    "name": "ipython",
    "version": 3
   },
   "file_extension": ".py",
   "mimetype": "text/x-python",
   "name": "python",
   "nbconvert_exporter": "python",
   "pygments_lexer": "ipython3",
   "version": "3.7.9-final"
  },
  "orig_nbformat": 2,
  "kernelspec": {
   "name": "pythondata",
   "display_name": "PythonData",
   "language": "python"
  }
 },
 "nbformat": 4,
 "nbformat_minor": 2,
 "cells": [
  {
   "cell_type": "code",
   "execution_count": 18,
   "metadata": {},
   "outputs": [],
   "source": [
    "# Import dependencies\n",
    "import pandas as pd"
   ]
  },
  {
   "cell_type": "code",
   "execution_count": 19,
   "metadata": {},
   "outputs": [
    {
     "output_type": "execute_result",
     "data": {
      "text/plain": [
       "   Student ID       student_name gender grade        school_name  \\\n",
       "0           0       Paul Bradley      M   9th  Huang High School   \n",
       "1           1       Victor Smith      M  12th  Huang High School   \n",
       "2           2    Kevin Rodriguez      M  12th  Huang High School   \n",
       "3           3  Dr. Richard Scott      M  12th  Huang High School   \n",
       "4           4         Bonnie Ray      F   9th  Huang High School   \n",
       "\n",
       "   reading_score  math_score  \n",
       "0             66          79  \n",
       "1             94          61  \n",
       "2             90          60  \n",
       "3             67          58  \n",
       "4             97          84  "
      ],
      "text/html": "<div>\n<style scoped>\n    .dataframe tbody tr th:only-of-type {\n        vertical-align: middle;\n    }\n\n    .dataframe tbody tr th {\n        vertical-align: top;\n    }\n\n    .dataframe thead th {\n        text-align: right;\n    }\n</style>\n<table border=\"1\" class=\"dataframe\">\n  <thead>\n    <tr style=\"text-align: right;\">\n      <th></th>\n      <th>Student ID</th>\n      <th>student_name</th>\n      <th>gender</th>\n      <th>grade</th>\n      <th>school_name</th>\n      <th>reading_score</th>\n      <th>math_score</th>\n    </tr>\n  </thead>\n  <tbody>\n    <tr>\n      <th>0</th>\n      <td>0</td>\n      <td>Paul Bradley</td>\n      <td>M</td>\n      <td>9th</td>\n      <td>Huang High School</td>\n      <td>66</td>\n      <td>79</td>\n    </tr>\n    <tr>\n      <th>1</th>\n      <td>1</td>\n      <td>Victor Smith</td>\n      <td>M</td>\n      <td>12th</td>\n      <td>Huang High School</td>\n      <td>94</td>\n      <td>61</td>\n    </tr>\n    <tr>\n      <th>2</th>\n      <td>2</td>\n      <td>Kevin Rodriguez</td>\n      <td>M</td>\n      <td>12th</td>\n      <td>Huang High School</td>\n      <td>90</td>\n      <td>60</td>\n    </tr>\n    <tr>\n      <th>3</th>\n      <td>3</td>\n      <td>Dr. Richard Scott</td>\n      <td>M</td>\n      <td>12th</td>\n      <td>Huang High School</td>\n      <td>67</td>\n      <td>58</td>\n    </tr>\n    <tr>\n      <th>4</th>\n      <td>4</td>\n      <td>Bonnie Ray</td>\n      <td>F</td>\n      <td>9th</td>\n      <td>Huang High School</td>\n      <td>97</td>\n      <td>84</td>\n    </tr>\n  </tbody>\n</table>\n</div>"
     },
     "metadata": {},
     "execution_count": 19
    }
   ],
   "source": [
    "student_data_to_load = \"Resources/students_complete.csv\"\n",
    "\n",
    "student_data_df = pd.read_csv(student_data_to_load)\n",
    "student_data_df.head()"
   ]
  },
  {
   "cell_type": "code",
   "execution_count": 20,
   "metadata": {},
   "outputs": [],
   "source": [
    "# Put the student names in a list. \n",
    "student_names = student_data_df[\"student_name\"].tolist()\n",
    "#student_names"
   ]
  },
  {
   "cell_type": "code",
   "execution_count": 21,
   "metadata": {},
   "outputs": [],
   "source": [
    "#name = \"Mrs. Linda Santiago\"\n",
    "\n",
    "#name.split()"
   ]
  },
  {
   "cell_type": "code",
   "execution_count": 22,
   "metadata": {
    "tags": []
   },
   "outputs": [],
   "source": [
    "# Split the student name and determine the length of the split name. \n",
    "#for name in student_names: \n",
    "    #print(name.split(), len(name.split()))"
   ]
  },
  {
   "cell_type": "code",
   "execution_count": 23,
   "metadata": {
    "tags": [
     "outputPrepend"
    ]
   },
   "outputs": [
    {
     "output_type": "stream",
     "name": "stdout",
     "text": [
      "d Johnson Jr.', 'Timothy Chavez Jr.', 'Michele Oconnell MD', 'Elizabeth Tran MD', 'Dr. Grace Martin', 'Sarah Chaney DDS', 'Mrs. Brooke Henry DDS', 'Dr. Lisa Coleman', 'Brian Powell III', 'Logan Oconnell PhD', 'Lance Rangel Jr.', 'Dr. Nicole King', 'Mr. John Carroll', 'Mr. Anthony Mccormick', 'Samuel Ruiz MD', 'Ms. Jennifer Richard', 'Mr. Stephen Cochran', 'Gary Jarvis MD', 'Dustin Stephenson MD', 'Mr. Derrick Campbell DDS', 'Lori Brown MD', 'Mrs. Brooke Rodgers', 'Mr. David Moss', 'Mr. Joseph Knight DDS', 'Mrs. Brittany Duncan MD', 'Mrs. Jennifer Edwards DVM', 'William Cook PhD', 'Kristina White MD', 'Tonya Henry MD', 'Robert Sanders PhD', 'Noah Herrera Jr.', 'Linda Marshall MD', 'James Davis MD', 'Dawn Gilbert MD', 'Dr. Dennis Andrews', 'Mr. John Evans', 'Mr. Michael Brooks', 'Shannon Ortiz MD', 'Mrs. Brenda Bishop MD', 'Wanda Miller MD', 'Mrs. Sheila Wagner', 'Mrs. Kathleen Johnson DVM', 'Dr. Shannon Russo', 'Chad Chavez DVM', 'Mr. William Holt', 'Paul Jensen PhD', 'Cassandra Gardner DDS', 'Mrs. Susan Klein', 'Dr. Amanda Nguyen', 'Mrs. Leslie Esparza', 'Mrs. Jacqueline Simpson', 'Mrs. Tammy Crane', 'Dr. Wendy Oliver', 'Katelyn Mejia DDS', 'Dr. Miguel Rivera', 'Mrs. Nancy Landry', 'Renee Stewart MD', 'Breanna Mcintyre DDS', 'Sarah Fischer MD', 'Ronald Berry DVM', 'Mrs. Amanda Cook', 'Dr. Monica Gonzalez', 'Miss Jennifer Moore', 'Crystal Watson DVM', 'Suzanne Edwards DDS', 'Lance Brown DVM', 'Olivia Taylor DDS', 'Mrs. Lauren Lewis', 'Jillian Proctor MD', 'Yvette Jacobson MD', 'Chelsea Rhodes DVM', 'Robert Brown DVM', 'Maria Brooks DDS', 'Eric Johnson Jr.', 'Kelly Webb PhD', 'Dr. Valerie Chen', 'Mrs. Taylor Martin', 'Dr. Andre Casey', 'Mr. Stephen Clements', 'Kevin Morrow MD', 'Dr. Louis Skinner', 'Adam Walker DVM', 'Mr. Steven Smith', 'Dr. Willie King', 'Miranda Stanley DVM', 'Dr. Travis Johnson', 'Mr. Christopher Cook', 'Mr. Martin Hensley DDS', 'Kelly Haynes DVM', 'Mr. Alexander Foster MD', 'Mr. William Rodgers', 'Anne Larsen MD', 'Sherry Johnson MD', 'Victor Chavez II', 'Brandon Dougherty DDS', 'Elizabeth Young DDS', 'Mr. Joshua Lucas', 'Michael Walsh DDS', 'Mrs. Lauren Campbell', 'Troy Camacho MD', 'Richard Ellis Jr.', 'Mr. Brandon Johnson', 'Mrs. Brooke Campbell', 'Dr. Karen Kelley', 'Mr. Jason Simmons', 'Mr. Larry Francis MD', 'Mr. Christopher Griffin', 'Mr. Dean York', 'Charles Goodman Jr.', 'Miss Erin Bradley DDS', 'Mr. Michael Allen', 'Kelly Romero MD', 'Anna Yang MD', 'John White DVM', 'Mr. James Barnes', 'Mr. Carlos Warner', 'April Calderon MD', 'Mrs. Kimberly Key DDS', 'Eric Park DDS', 'Patrick Barker PhD', 'Michael Singh Jr.', 'Jonathan Smith Jr.', 'Allen Morris Jr.', 'Mr. Lee Rose', 'Dr. Carl James', 'Dr. Kimberly Benjamin', 'Mr. Lucas Smith', 'Mr. Jason Grant DDS', 'Aaron Solis Jr.', 'Ryan Graham MD', 'Justin Morgan MD', 'Mrs. Victoria Cochran', 'Dr. Ryan Roberts', 'Katie Strickland DDS', 'Emma Perry MD', 'Mr. Daniel Mckinney Jr.', 'Mr. Paul Farmer', 'Stephanie Howard MD', 'Mandy Mcconnell DDS', 'Mrs. Angelica Hall', 'Christopher Petty Jr.', 'Megan Shaw DDS', 'Bianca Huynh MD', 'Miss Christina Burns', 'Melissa Dunn MD', 'Mr. Derek Wilson', 'Mr. Angel Johnson', 'Mrs. Nicole Duran', 'Michael Garcia Jr.', 'Mrs. Bethany Fisher PhD', 'Mr. Daniel Nguyen DDS', 'Wanda Moore MD', 'Charles Short II', 'Kimberly Jacobson PhD', 'Debbie Brown DVM', 'Mr. Michael Dyer MD', 'Joshua Kim DDS', 'Daniel Fitzpatrick PhD', 'Jordan Waller MD', 'Mr. Jesse Bell', 'Mario Myers MD', 'Terry Adams DDS', 'Derek Barker Jr.', 'Mrs. Renee Gordon', 'Mr. Vincent King', 'Dr. Oscar Lawson MD', 'Lisa Zimmerman DVM', 'Mr. Phillip Vaughan', 'Joseph Dyer MD', 'Dr. Austin Cole', 'Mrs. Amanda Martin', 'John Thomas MD', 'Sierra Dominguez MD', 'Mrs. Katie Weber MD', 'Ms. Nancy Green', 'Mrs. Pamela Garcia', 'Danielle Stanton MD', 'Elizabeth Logan DDS', 'Courtney Wall DVM', 'Karen Harris PhD', 'Mrs. Amanda Herring', 'Dr. David Miller', 'Mr. Eric Anderson', 'Mrs. Sheena Bailey DVM', 'Zachary Garrett III', 'Thomas Harrison Jr.', 'Megan Bennett DVM', 'Mr. Steven Harrison', 'Amy Mcintosh MD', 'Dr. Frank Anderson', 'Jamie Dawson MD', 'Mr. Andrew Mitchell V', 'Dr. Travis Richmond', 'Mrs. Amy Cain', 'Aaron Davis Jr.', 'Thomas Burgess MD', 'Amanda Hale DVM', 'Derek Cooke MD', 'Dr. Daniel Bowman', 'Dr. Jonathan Palmer', 'Lori Mitchell DDS', 'Mr. Richard Armstrong', 'Dr. Timothy Johnson', 'Mrs. Pam Lewis DVM', 'Amy Gutierrez DDS', 'Dr. Christina Flores', 'Brian Bailey Jr.', 'Mrs. Carla Humphrey', 'William Burch MD', 'Yvonne Robinson PhD', 'Martha Mcdonald DVM', 'Dr. Mary Schwartz', 'Taylor Green DDS', 'Christopher Simmons PhD', 'Rhonda Peterson MD', 'Jacqueline West DDS', 'Anne Lee DDS', 'Jacqueline Snow MD', 'Dr. Jennifer Shea', 'Clayton Williams DVM', 'Mr. Jeremiah Morris IV', 'Mr. John Harris', 'Mr. David Morales Jr.', 'Barbara Johnson MD', 'Megan Gutierrez MD', 'Larry Chandler Jr.', 'Ronald Matthews PhD', 'James Clark II', 'Cameron Roman Jr.', 'Mr. Ian Smith', 'Melissa Hunt MD', 'Alexandria Cooper MD', 'Mr. Andre Jensen', 'Renee Garcia MD', 'Christopher Smith Jr.', 'Mrs. Lori Rogers MD', 'Tammy Dunlap DVM', 'Matthew Sawyer PhD', 'Mike Harris PhD', 'Mrs. Christina Mitchell DDS', 'Evelyn Suarez DDS', 'Christina Alvarez PhD', 'Emily Duran MD', 'Todd Grant Jr.', 'Mrs. Veronica Sherman', 'Mr. Alan Anderson', 'Mr. Jason Jackson', 'Mrs. Jennifer Rivera', 'Dr. Terry Sanchez', 'Mr. Scott Sexton', 'Mrs. Wendy Hayes', 'Kenneth Santiago MD', 'Dr. Matthew Hernandez', 'Louis Hodges DDS', 'Dr. Douglas Duffy', 'Mrs. Michelle Patterson', 'Mrs. Jennifer Craig', 'Mr. Michael Graham', 'Dr. David Wright', 'Jeanne Fischer MD', 'Mrs. Amanda Rose', 'Rebecca Salazar DDS', 'Mrs. Kathleen Cook', 'Robert Olson DVM', 'Richard Cherry DDS', 'Jeffrey Shepard DVM', 'James Holland MD', 'Dr. Patricia Baker', 'Joshua Montgomery MD', 'Kevin Andrews PhD', 'Dr. Rachel Gilbert', 'Kenneth Avila Jr.', 'Miss Taylor Barron', 'Mr. Jason Lopez Jr.', 'Parker Carter MD', 'Dennis Wells DDS', 'Mrs. Carol White', 'Courtney Stephenson MD', 'Dr. Andrea Rose', 'Dr. Seth Villarreal DVM', 'Mrs. Sabrina Murillo MD', 'Mr. Eric Gordon', 'Mrs. Brenda Johnson DVM', 'Anthony Garrett DDS', 'Billy Franco PhD', 'Mr. Jeremiah Rogers', 'Mr. Donald Vang', 'Dr. Alexander Chang PhD', 'Mr. Robert Hendricks', 'Dr. Bryan Kim', 'Mrs. Cynthia Lopez', 'Dr. Laura Thompson', 'Ms. Stephanie Schwartz DDS', 'Mr. Anthony Deleon', 'Miss Sarah West', 'Dr. Devin Sharp PhD', 'Brittney Hammond DVM', 'Miss Chelsea Sullivan PhD', 'Dr. Jessica Love DVM', 'Leah Page DDS', 'Hannah Rose MD', 'Miss Norma Mcfarland', 'Dwayne Mathis Jr.', 'Cheryl Gay PhD', 'Patrick Morgan MD', 'Jeremy Rivera MD', 'Mr. Colton Collins II', 'Mr. Alexander Dalton', 'Dr. Nicholas Braun', 'Chris Palmer III', 'Mr. Mason Hernandez MD', 'Dr. Roberta Edwards', 'Dr. Kaitlin Barton', 'Dr. Nicholas Garcia', 'Mr. Trevor Woods', 'Dr. Bradley Jones DDS', 'Dr. Jennifer Thomas DDS', 'Dr. Adam Rivera', 'Mr. Sean Coleman PhD', 'Dr. Sheila Walton MD', 'Ian Sanchez DVM', 'Dr. Robert Mckinney', 'Laura Franco MD', 'Kelly Williams DDS', 'Mason Adams MD', 'Mr. Jason Davis', 'Dr. Daniel Flores', 'Mr. Gary Anderson DDS', 'Tyler Randall Jr.', 'Joshua Santiago DDS', 'Laurie Moore DDS', 'Dr. Susan Walsh', 'Kristin Smith MD', 'Mrs. Denise Vasquez', 'Miss Bridget Ryan', 'Joseph Morgan IV', 'Carlos Adkins Jr.', 'Michael Craig DDS', 'Dr. Brent Schwartz', 'Mrs. Melissa Vasquez', 'Ms. Sandra Ware', 'Dr. Becky Powell', 'Dr. Matthew Cooper DDS', 'Mark Livingston Jr.', 'Mr. Michael Martin DVM', 'Kari Anderson DVM', 'Mrs. Kaitlin Oconnor DVM', 'Crystal Miller DVM', 'Mrs. Margaret Watson', 'Mr. John Martin', 'Richard Price MD', 'Jennifer Powell DVM', 'Sheri Davis DDS', 'Traci Blanchard MD', 'Mrs. Nancy Blair', 'Aaron Carpenter MD', 'Dr. Monica Wilson', 'Dr. Kristin Holland', 'Kimberly Knight DDS', 'Mrs. Brittany Ford DDS', 'Benjamin Singh DVM', 'Dr. Amber Owens', 'Michael Williams III', 'Mrs. Wendy Gomez DVM', 'Kara Stuart MD', 'Kayla Torres DVM', 'Bobby Hart DDS', 'Mark Russell MD', 'John Duncan MD', 'Rachel Gonzalez DVM', 'Mrs. Katherine Jones', 'Dr. Brian Harrington DVM', 'Mrs. Theresa Winters', 'Mr. Chad Hale', 'Miguel Cook MD', 'Eric Evans III', 'John Murray DDS', 'Dr. Andrew Young', 'Mrs. Jordan White MD', 'Dr. Erica Stevenson', 'Mr. Stephen Hardy', 'Paul Stanley DDS', 'Christina Gonzalez DVM', 'Dr. Anthony Jimenez', 'Christopher Thornton Jr.', 'Mrs. Julie Powers', 'Dr. Christopher Sullivan', 'Dr. Joyce Pace', 'Dr. Alyssa Patrick', 'Adam Hayes III', 'Brittany Holmes MD', 'Mrs. Angela Floyd', 'Ms. Angela Hernandez', 'Michael Cummings MD', 'Brittany Sanchez PhD', 'Nicole Mclean DVM', 'Dr. Melissa Fernandez', 'Scott Bishop DDS', 'Mrs. Alexandra Hamilton', 'Dr. Jacob Taylor MD', 'Michael Moore Jr.', 'Ms. Alicia Zhang DDS', 'Mrs. Sharon Rose', 'Amber Ray MD', 'Mr. Jeremy Chang', 'Joseph Hudson II', 'Jessica Hughes MD', 'William Brooks Jr.', 'Mr. Jacob Frost', 'Mrs. Melissa Ingram DDS', 'Dr. Robert Murphy', 'Mrs. Melanie Martinez PhD', 'Mr. Stephen Berry', 'Dr. Judith Reese', 'Sarah Young DDS', 'Angela Thompson DDS', 'Mr. Darren Taylor', 'Daniel Welch II', 'Roger Horton Jr.', 'Dr. Virginia Evans', 'Dr. John Dyer', 'Jeffery Brown DDS', 'Paul Cox MD', 'Mrs. Angela Williams', 'Cory Marshall II', 'Mrs. Megan Clark MD', 'Dr. Jennifer Hogan MD', 'Natalie Davis MD', 'Dr. Sarah Johnson', 'Dr. Corey Mathis', 'Mr. Joshua Thompson Jr.', 'Nancy Stewart DDS', 'Mr. Brian Glover', 'Roberta Garcia MD', 'Erin Conrad DVM', 'Dr. Karla Love', 'Dr. Tina White PhD', 'Leslie Wright MD', 'Ms. Brittney Nunez', 'Mrs. Susan Mccormick', 'Amanda Wolf DVM', 'Mr. Mitchell Coleman', 'Miss Christy Harris', 'Dylan Foley DDS', 'Mr. Lance Stark', 'Ricky Murphy DDS', 'Mr. Elijah Anderson', 'Kristen Dennis DVM', 'Mr. Casey Vang', 'William Young DDS', 'Ms. Kristina Cook', 'Mrs. Kimberly Floyd DDS', 'Mr. Timothy Brooks', 'Mrs. Samantha Jackson', 'Miss Lori Doyle', 'Ms. Karen Villegas MD', 'Brenda Maldonado MD', 'Katherine Pierce MD', 'Dr. Aaron Morrison MD', 'Marcia Swanson DDS', 'Yolanda Harris DVM', 'Roger Forbes PhD', 'Dr. Tiffany Harmon', 'Mrs. Kimberly Brandt', 'Mr. Casey Pham', 'Mrs. Dana Hammond DDS', 'John Ruiz DDS', 'David Li MD', 'Lisa Velasquez MD', 'Brian Bryan MD', 'Mr. Brian Wilson', 'Mr. Joseph Medina', 'Monica Dean DDS', 'Travis Mcintyre DVM', 'Mrs. Kelsey Marshall', 'Mr. Duane Roberts MD', 'Jon Flores II', 'Mrs. Lisa Lyons MD', 'Dr. Philip Jones Jr.', 'Greg Joyce Jr.', 'Ms. Barbara Tran', 'Mrs. Mary Duarte MD', 'Christina Hull MD', 'Mr. Anthony Wilson', 'Mrs. Lisa Baker', 'Miss Mary Sloan', 'Mr. Joshua King', 'Daniel Mckinney MD', 'Nicole Martinez MD', 'Dr. David Robinson DVM', 'Joe Butler MD', 'Thomas Frye Jr.', 'Patrick Mcdaniel PhD', 'Dr. Brooke Williams', 'Robert Edwards PhD', 'Cynthia Mclaughlin PhD', 'Mark Hardy DDS', 'Dr. Kathryn Riley', 'Mrs. Heather Price', 'Miss Ashley Howell', 'Mr. James Adams', 'Mr. Michael Eaton', 'Mr. Joseph Marquez Jr.', 'Danielle Mercer DVM', 'Jacqueline York DDS', 'Mrs. Barbara Sanchez', 'Dr. Valerie Kline', 'Mr. Tony Cobb', 'Mr. Justin Jarvis', 'Nichole Novak MD', 'Mr. Matthew Cameron', 'Michael Robinson DVM', 'Adam Munoz PhD', 'Mr. Stephen Vaughan', 'Mr. Daniel Hale', 'Valerie Mccormick MD', 'Robert Smith Jr.', 'David Beck Jr.', 'Dana Bennett DVM', 'Dr. Tina Woodard', 'James Smith MD', 'Mr. Jerry Norton', 'Billy Hall DDS', 'Dr. Lauren Robertson MD', 'Mrs. Joyce Cunningham', 'Mr. Matthew Reilly', 'Erik Lowe MD', 'Mrs. Tara Lee', 'Dr. Theresa Gaines MD', 'Danielle Brown MD', 'Miss Misty Wood', 'Jonathan Maldonado MD', 'Mrs. Ashley Martin', 'Ms. Emily Ford', 'Mr. Isaiah Martinez DDS', 'Christopher Moore PhD', 'Mr. Andrew Robinson', 'Mr. Ryan Gates', 'John Fitzgerald MD', 'Gail Page PhD', 'Cheryl Richards MD', 'Todd Sandoval DVM', 'Mr. Brendan Watson', 'Mr. Brandon Bryan', 'Mrs. Karen Wright MD', 'Rhonda Stevenson MD', 'Danielle Cook MD', 'Ms. Taylor Velazquez', 'Michelle Porter DDS', 'Ryan Gomez II', 'Mrs. Rachel Hensley', 'Mrs. Cynthia Lawrence', 'Melissa Gonzalez DVM', 'Dr. Laura Tyler', 'Erik Smith Jr.', 'Angie Clarke DVM', 'Jennifer Olson MD', 'Omar Thompson Jr.', 'William Smith DDS', 'Jessica Smith DVM', 'Mr. Justin Mccoy', 'Robert Nguyen DDS', 'Leonard Roberts Jr.', 'Dr. Paul Johnson', 'Cody Martinez DVM', 'Duane Li Jr.', 'Ms. Allison Cunningham', 'Dr. Robert Hurley', 'Mrs. Ashley Floyd', 'Hunter James DDS', 'Dr. Brianna Greene MD', 'Matthew Higgins PhD', 'Mr. Jeremy Valentine', 'Wesley Martinez DDS', 'Mr. Justin Jones', 'Brent Ball DDS', 'Miss Jessica Holloway DVM', 'Mark Sanders MD', 'Dr. Tracy Levy', 'Larry Anderson MD', 'Dr. Steven Smith', 'Christian Hurst PhD', 'Amanda Gomez DDS', 'Mr. Anthony Nunez', 'Mrs. Rachel Newman DDS', 'Mr. Tyler Foster', 'Mr. Barry Copeland', 'Mr. Richard Edwards', 'Carly Montoya DDS', 'Mrs. Amy Bradford DDS', 'Mr. Tyler Allen', 'Mrs. Melissa Ramirez', 'Claudia Cook MD', 'Thomas Herrera DVM', 'Mr. Bobby Tucker', 'Dr. Stephanie Gonzalez', 'Dr. Bridget Hart DVM', 'Emily Graham DVM', 'Mr. Daniel Carpenter', 'Mr. Christian Bennett', 'Mr. Mark Peters DDS', 'Dr. Bradley Jackson', 'Miss Hannah Moore MD', 'Kaitlyn Adams MD', 'Darren Moore MD', 'Richard Lucero Jr.', 'Elizabeth Holder PhD', 'Mrs. Shannon Gonzalez MD', 'Seth Medina Jr.', 'Betty Raymond DVM', 'Dr. Crystal Watson', 'Scott Diaz DDS', 'Mrs. Lindsey White', 'Ryan Lamb DVM', 'Amber Graham MD', 'Mrs. Jennifer Chavez DVM', 'Becky Aguilar MD', 'Mrs. Lisa Vargas DDS', 'Robert Frazier DDS', 'Mrs. Jennifer Kelly', 'Mr. Richard Curry PhD', 'Mrs. Anna Perez', 'Keith Gomez DDS', 'Anthony Carlson Jr.', 'Dr. Bradley Rodgers', 'Mr. William Bishop', 'Mrs. Rhonda Bradley', 'Kimberly Martin DDS', 'Ryan Martinez MD', 'Latasha Thomas MD', 'Mrs. Tamara Burns', 'Andrea Dawson MD', 'Mr. Daniel Johnson', 'Lauren Smith MD', 'Dr. Nicole Brady', 'Wyatt Hoffman DDS', 'Dr. Kathy Bailey', 'Mr. Jorge Smith', 'Dr. Katherine Pham', 'Deanna Key DVM', 'Donna Mcclure MD', 'Dr. Jeremy Davis', 'Mrs. Brittany Boone MD', 'Debra Torres PhD', 'Hannah Garcia MD', 'Ms. Jacqueline Stone', 'Dr. Wesley Lynch MD', 'Edward Dudley II', 'Nathan Gonzalez MD', 'Dr. Sean Neal', 'Matthew Lewis Jr.', 'Jacob Perez PhD', 'Alexander Brown MD', 'Mr. Duane Sherman', 'Mr. John Petty', 'Ms. Brooke Stewart', 'Isaac Smith PhD', 'Dr. Kristi Soto MD', 'Dr. Timothy Haynes', 'Dr. Raven Ortiz MD', 'Kendra Buckley DDS', 'Mr. Russell Daniel', 'Christopher Bowers Jr.', 'Wendy Arroyo PhD', 'Taylor Hill DDS', 'Mrs. Lisa Guerrero', 'Mr. Jose Moran', 'Allison Perkins MD', 'Lisa Monroe DDS', 'Kenneth Cervantes DDS', 'Sandra Freeman MD', 'Mr. Patrick Rodriguez MD', 'Brendan Kim MD', 'Timothy Hughes Jr.', 'Dr. Carlos Mcdonald', 'Chad Bryant DDS', 'Gina Nguyen DDS', 'Dr. James Myers', 'Meagan Browning MD', 'Mr. Frank Delgado', 'Michael Torres MD', 'Michelle Richards MD', 'Kimberly Osborn MD', 'Kevin Hoover IV', 'Mr. Jeffrey Thompson', 'Mrs. Laurie Hamilton', 'David Butler Jr.', 'Amy Jones MD', 'Nicholas Frost DDS', 'Mr. James Thompson MD', 'Mrs. Adrienne Evans DDS', 'Mr. Christopher Bell', 'Louis Smith MD', 'Dr. Cameron Anderson', 'Crystal Wiggins MD', 'Michael Wilson Jr.', 'Matthew Savage MD', 'Jeffrey Jones DVM', 'Mr. John Burns', 'Dr. Luke Torres DVM', 'Christopher Stewart DVM', 'Benjamin Carlson MD', 'Emily Fitzgerald MD', 'Mrs. Carolyn Cole', 'Bruce Cummings DVM', 'Lisa Vance DVM', 'Mrs. Lisa Doyle', 'Dr. Brenda Sandoval', 'Miss Taylor Garza', 'Elizabeth Robinson PhD', 'Mr. George Hess Jr.', 'Courtney Cox PhD', 'Mr. Brian Schmidt DVM', 'Kevin Briggs Jr.', 'Ms. Grace Austin', 'Louis Cooper MD', 'Mrs. Tabitha Coleman', 'Thomas Knox MD', 'Sierra Little DDS', 'Mr. Joseph Matthews III', 'Mrs. Brenda Henderson DVM', 'Michael Martin DDS', 'Mr. Andrew Dennis', 'Dr. Edward Davenport', 'Dr. Dylan Bailey Jr.', 'Mr. John Jackson', 'Lisa Hernandez MD', 'Dr. Michael Gibbs', 'Angel Brown MD', 'Mr. Timothy Carter', 'Anthony Woods Jr.', 'Ms. Amy Watson', 'Marcus Jones MD', 'Kelsey Bennett MD', 'Ashley Wells DVM', 'Michael Harris Jr.', 'Daniel Diaz Jr.', 'Mrs. April Thornton', 'Steven Reid DDS', 'Mr. Jay Maxwell', 'Dr. Patrick Rasmussen', 'Dr. Jordan Smith', 'Cristian Williams PhD', 'Mrs. Amanda Harris DDS', 'Sean Reed DDS', 'Dr. Robin Higgins', 'Dr. Megan Glass', 'Mr. William Scott', 'Mr. Chad Gentry DDS', 'Taylor Thompson Jr.', 'Miss Wendy Martin', 'Daniel Robinson Jr.', 'Miss Jessica Hood', 'Michael Taylor MD', 'Micheal Stout DVM', 'Michael Aguirre DDS', 'Dr. Karl Campbell', 'Mr. Aaron Randolph', 'Dr. Jenna Arellano MD', 'Holly Adams MD', 'Melissa Barnett PhD', 'Brenda Brown DDS', 'Alicia Palmer MD', 'Dr. Carl Haynes', 'Anthony Bryant DDS', 'Christopher Perez DVM', 'Mrs. Amber Garner DVM', 'Thomas Diaz MD', 'Mr. Logan Thomas', 'Sherry Turner DDS', 'Joshua Martinez MD', 'Mrs. Alicia Sanford', 'Mrs. Laura Sexton', 'Melissa Coleman MD', 'Dr. Dana Burnett MD', 'Ronald Phelps Jr.', 'Mrs. Jessica Flynn', 'Dr. Robin Jones', 'Mr. Michael Jones', 'Jeffrey Parker MD', 'Mrs. Elizabeth Jones', 'Erika Stafford DVM', 'Mr. Vincent Reed', 'Mr. Justin Mcgee', 'Todd Turner DDS', 'Karen Kidd MD', 'Michael Miller PhD', 'Dr. Deborah Farrell', 'Mrs. Sharon Kelley', 'Andrew Cole MD', 'Jonathan Reid II', 'Mrs. Taylor Castillo', 'Joshua Smith Jr.', 'Joseph Herrera III', 'Miss Megan Smith', 'Catherine Ferguson MD', 'Dr. Mitchell Hays', 'Mrs. Jordan Turner', 'Mr. Robert Reyes', 'Mr. Johnny Walsh', 'Andrew Walsh PhD', 'Mrs. Lauren Collins', 'Adam Thompson MD', 'Mrs. Chelsea Roberts MD', 'Ms. Debra Brown', 'Vicki Santos PhD', 'Tony Robertson II', 'Kathleen Golden DDS', 'Dr. Elizabeth Tran', 'Miss Rachel West', 'Jessica Hoover DVM', 'Toni Graham DDS', 'Joseph Patel MD', 'Nathaniel Molina DDS', 'Ms. Cheryl Fisher', 'Nicolas Crawford MD', 'Wendy Owens DVM', 'Patricia Boone MD', 'Mr. Robert Estrada', 'Mr. Kevin Yates', 'James Fowler III', 'Dr. Andrea Welch DDS', 'Ms. Sara Parker', 'Dr. Destiny Mcdonald', 'Mrs. Brittany Perry MD', 'Timothy Mccoy DVM', 'Melissa Cohen MD', 'William Wright II', 'Dr. Jose White', 'Dr. Mason Graves', 'Dr. Diane Rodriguez', 'Marilyn Rubio DDS', 'Jose Lewis MD', 'Latasha Hughes MD', 'Monica Wallace DDS', 'Dr. Robin Reed', 'Dr. Ashley Butler', 'Misty Garcia MD', 'Amy Turner MD', 'Robert Miller DVM', 'Andrea Horton MD', 'Thomas Estes MD', 'Justin Warner MD', 'Thomas Carrillo II', 'James Hess DDS', 'Matthew Bennett Jr.', 'John Scott MD', 'Mrs. Carla Lawson', 'Anthony Campbell DDS', 'Mario Griffith MD', 'Mr. Jacob Jackson', 'Mrs. Allison Robinson', 'Mrs. Amber Hall', 'Miss Gabriela Burch', 'Kathryn Wade MD', 'Mr. Anthony Martinez', 'Dr. Justin Duffy', 'Steven Hoover MD', 'Mary Smith MD', 'Tiffany Young DDS', 'Mark Lucas IV', 'Kenneth Marquez MD', 'Keith Newman Jr.', 'Matthew Mitchell III', 'Dr. Jo Williams', 'Lauren Howell DDS', 'Erica Martin DDS', 'Ms. Hannah Mcdonald MD', 'Brandon Palmer DDS', 'Ms. Stephanie Nichols DVM', 'Dr. Mckenzie Cummings', 'Valerie Joseph DVM', 'Harold Parker PhD', 'Mr. David Reeves', 'Dr. Christina Barrera', 'Kristen Solis MD', 'Colin Schultz II', 'Miss Michelle Li', 'Mr. Andrew Summers', 'Dr. Kimberly Ramos', 'Thomas Meyer DVM', 'Troy Foster MD', 'John Hernandez DVM', 'Valerie Krueger DDS', 'Carol Valdez DDS', 'Dr. Jay Johnson DDS', 'Brenda Holloway DVM', 'Wendy Parker MD', 'Kim Smith DVM', 'Mr. Wesley Fields MD', 'Nicole White MD', 'Amanda Skinner MD', 'Adrienne Turner MD', 'Terry Scott Jr.', 'Cesar Rodriguez DVM', 'Jennifer Gay MD', 'Mr. Earl Thompson', 'Miss Melinda Thomas', 'Mary Nixon MD', 'Leslie Kelly MD', 'Mrs. Kristen Gonzalez', 'Michael Carter MD', 'Joseph Perez DDS', 'Mrs. Alice Warren', 'Julia Kelley MD', 'David Coffey PhD', 'Mrs. Pam Wolf DDS', 'Mr. Ryan Thomas', 'Gregory Morgan MD', 'Dr. Carol Williams', 'Ms. Rebecca Gonzales', 'Mrs. Samantha Glover', 'Anna Decker MD', 'Hailey Lopez DDS', 'Mr. James Baker', 'Mrs. Amber Gonzalez', 'Mr. Jason Patel Jr.', 'Stephanie Walker DDS', 'Mr. Timothy Scott', 'Dr. Michael Sullivan DDS', 'Mrs. Brittney Schultz DVM', 'Dr. Frances Romero', 'Laura Bennett DDS', 'Allen Goodwin DDS', 'Kimberly Brown MD', 'Steven Lewis Jr.', 'Angela Garcia DDS', 'William Foster PhD', 'Lucas Williams Jr.', 'Dr. Kimberly Page', 'Deborah Higgins DDS']\n"
     ]
    }
   ],
   "source": [
    "# Create a new list and use it for the for loop to iterate through the list. \n",
    "students_to_fix = []\n",
    "\n",
    "# Use an if statement to check the length of the name\n",
    "# If the name is greater than or equal to \"3\", add the name to the list. \n",
    "\n",
    "for name in student_names: \n",
    "    if len(name.split()) >= 3:\n",
    "        students_to_fix.append(name)\n",
    "\n",
    "# Get the length of the students whose names are greater then or equal to 3 \n",
    "len(students_to_fix)\n",
    "print(students_to_fix)"
   ]
  },
  {
   "cell_type": "code",
   "execution_count": 24,
   "metadata": {},
   "outputs": [
    {
     "output_type": "stream",
     "name": "stdout",
     "text": [
      "['Dr.', 'Dr.', 'Mr.', 'Dr.', 'Miss', 'Luke', 'Dr.', 'Mrs.', 'Mrs.', 'Mr.', 'Dr.', 'Mr.', 'Mr.', 'Mary', 'Mrs.', 'Mrs.', 'Mr.', 'Tara', 'Dr.', 'Mr.', 'Mrs.', 'Mr.', 'Mr.', 'John', 'Mr.', 'Mrs.', 'Mr.', 'Dr.', 'Mr.', 'Mr.', 'Dale', 'Dr.', 'Dr.', 'Dr.', 'Ms.', 'Dr.', 'Dr.', 'Mr.', 'Mrs.', 'Amy', 'Mr.', 'Dr.', 'Mr.', 'Mr.', 'Mrs.', 'Mrs.', 'Mr.', 'Lisa', 'Mr.', 'Dr.', 'Mr.', 'Mr.', 'Mr.', 'Dr.', 'Mr.', 'Mark', 'Mrs.', 'Dr.', 'Dr.', 'Miss', 'Mr.', 'Miss', 'Mr.', 'Mrs.', 'Mr.', 'Mrs.', 'Mr.', 'Mr.', 'Mr.', 'Dr.', 'Dr.', 'Miss', 'Mr.', 'Mrs.', 'Mr.', 'Tara', 'Dr.', 'Mr.', 'Cody', 'Mr.', 'Dr.', 'Mr.', 'Ms.', 'Dr.', 'Mr.', 'Mrs.', 'Sara', 'Mr.', 'Mrs.', 'Dr.', 'Mr.', 'Dr.', 'Mr.', 'Mrs.', 'Mr.', 'Mr.', 'Mr.', 'Mr.', 'Mr.', 'Dr.', 'Mrs.', 'Mr.', 'Mrs.', 'Dr.', 'Ryan', 'Mrs.', 'Mr.', 'Ms.', 'Mr.', 'Dr.', 'John', 'Mr.', 'Dr.', 'Dr.', 'Mrs.', 'Dr.', 'Mrs.', 'Mr.', 'Mr.', 'Mrs.', 'Dr.', 'Dr.', 'Miss', 'Miss', 'Mr.', 'Mr.', 'Mr.', 'Dr.', 'Dr.', 'Mrs.', 'Mr.', 'Ms.', 'Mr.', 'Miss', 'Tony', 'Dr.', 'Mr.', 'Mr.', 'Mrs.', 'Mr.', 'Mrs.', 'Miss', 'Mrs.', 'Jodi', 'Mr.', 'Mr.', 'Mrs.', 'Mr.', 'Mr.', 'Mrs.', 'Mrs.', 'Mrs.', 'Mr.', 'Mr.', 'Mr.', 'Mrs.', 'Dr.', 'Mr.', 'Mr.', 'Mrs.', 'Mr.', 'Mrs.', 'Mr.', 'Dr.', 'Mr.', 'Mr.', 'Ruth', 'Dr.', 'Mr.', 'Ms.', 'Dr.', 'Mr.', 'Mrs.', 'Mr.', 'Dr.', 'Dr.', 'John', 'Dr.', 'Mr.', 'Mrs.', 'Mrs.', 'Mrs.', 'Dr.', 'Mrs.', 'John', 'Amy', 'Adam', 'Dr.', 'Eric', 'Mrs.', 'Mr.', 'Mrs.', 'Dr.', 'Dr.', 'Kyle', 'Mr.', 'Ms.', 'Lynn', 'Dr.', 'Mr.', 'Jon', 'Mrs.', 'Mrs.', 'Mrs.', 'Dr.', 'Mrs.', 'Dr.', 'Dr.', 'Dr.', 'Mrs.', 'Mrs.', 'Judy', 'Mr.', 'Dr.', 'Mr.', 'Mrs.', 'Dr.', 'Mr.', 'Mr.', 'Mr.', 'Sara', 'Dr.', 'Dr.', 'Mrs.', 'Tara', 'Dr.', 'Mrs.', 'Dr.', 'Miss', 'Mrs.', 'Mr.', 'Dr.', 'Miss', 'Tina', 'Dr.', 'Eric', 'Ms.', 'Ms.', 'Mr.', 'Mrs.', 'Dr.', 'Dr.', 'Mr.', 'Mr.', 'Dr.', 'Mr.', 'Mr.', 'Dr.', 'Miss', 'Dr.', 'Paul', 'Mrs.', 'Mr.', 'Mrs.', 'Mr.', 'Mr.', 'Mr.', 'Dr.', 'Mrs.', 'Dr.', 'Dr.', 'Mrs.', 'Mrs.', 'Dr.', 'Dr.', 'Dr.', 'Mr.', 'Ms.', 'Dr.', 'Mr.', 'Mrs.', 'Dr.', 'Mrs.', 'Dr.', 'Mrs.', 'Mr.', 'Dr.', 'Mrs.', 'Mrs.', 'Mrs.', 'Dr.', 'Dr.', 'Mr.', 'Mr.', 'Mr.', 'Dr.', 'Marc', 'Mr.', 'Dr.', 'Dr.', 'Dr.', 'Mrs.', 'Dr.', 'Mrs.', 'Mrs.', 'Mr.', 'Mrs.', 'Dr.', 'Dr.', 'Dr.', 'Dr.', 'Mr.', 'Dr.', 'Mr.', 'Mrs.', 'Dr.', 'Dr.', 'Dr.', 'Amy', 'Dr.', 'Mr.', 'Mrs.', 'Mr.', 'Mrs.', 'Dr.', 'Dr.', 'Mr.', 'Mrs.', 'Dr.', 'Jill', 'Mary', 'Carl', 'Mr.', 'Dr.', 'Jose', 'Mrs.', 'Mary', 'Ms.', 'Jose', 'Lisa', 'Mrs.', 'Mr.', 'Miss', 'Mr.', 'Eric', 'Mr.', 'Mrs.', 'Mrs.', 'Miss', 'Emma', 'Mrs.', 'Dr.', 'Mrs.', 'Mr.', 'Dr.', 'Mr.', 'Mr.', 'Dr.', 'Dr.', 'Mrs.', 'Dr.', 'Dr.', 'Mr.', 'Mr.', 'Ms.', 'Mr.', 'Gary', 'Mr.', 'Lori', 'Mrs.', 'Mr.', 'Mr.', 'Mrs.', 'Mrs.', 'Noah', 'Dawn', 'Dr.', 'Mr.', 'Mr.', 'Mrs.', 'Mrs.', 'Mrs.', 'Dr.', 'Chad', 'Mr.', 'Paul', 'Mrs.', 'Dr.', 'Mrs.', 'Mrs.', 'Mrs.', 'Dr.', 'Dr.', 'Mrs.', 'Mrs.', 'Dr.', 'Miss', 'Mrs.', 'Eric', 'Dr.', 'Mrs.', 'Dr.', 'Mr.', 'Dr.', 'Adam', 'Mr.', 'Dr.', 'Dr.', 'Mr.', 'Mr.', 'Mr.', 'Mr.', 'Anne', 'Mr.', 'Mrs.', 'Troy', 'Mr.', 'Mrs.', 'Dr.', 'Mr.', 'Mr.', 'Mr.', 'Mr.', 'Miss', 'Mr.', 'Anna', 'John', 'Mr.', 'Mr.', 'Mrs.', 'Eric', 'Mr.', 'Dr.', 'Dr.', 'Mr.', 'Mr.', 'Ryan', 'Mrs.', 'Dr.', 'Emma', 'Mr.', 'Mr.', 'Mrs.', 'Miss', 'Mr.', 'Mr.', 'Mrs.', 'Mrs.', 'Mr.', 'Mr.', 'Mr.', 'Mrs.', 'Mr.', 'Dr.', 'Lisa', 'Mr.', 'Dr.', 'Mrs.', 'John', 'Mrs.', 'Ms.', 'Mrs.', 'Mrs.', 'Dr.', 'Mr.', 'Mrs.', 'Mr.', 'Amy', 'Dr.', 'Mr.', 'Dr.', 'Mrs.', 'Dr.', 'Dr.', 'Lori', 'Mr.', 'Dr.', 'Mrs.', 'Amy', 'Dr.', 'Mrs.', 'Dr.', 'Anne', 'Dr.', 'Mr.', 'Mr.', 'Mr.', 'Mr.', 'Mr.', 'Mrs.', 'Mike', 'Mrs.', 'Todd', 'Mrs.', 'Mr.', 'Mr.', 'Mrs.', 'Dr.', 'Mr.', 'Mrs.', 'Dr.', 'Dr.', 'Mrs.', 'Mrs.', 'Mr.', 'Dr.', 'Mrs.', 'Mrs.', 'Dr.', 'Dr.', 'Miss', 'Mr.', 'Mrs.', 'Dr.', 'Dr.', 'Mrs.', 'Mr.', 'Mrs.', 'Mr.', 'Mr.', 'Dr.', 'Mr.', 'Dr.', 'Mrs.', 'Dr.', 'Ms.', 'Mr.', 'Miss', 'Dr.', 'Miss', 'Dr.', 'Leah', 'Miss', 'Mr.', 'Mr.', 'Dr.', 'Mr.', 'Dr.', 'Dr.', 'Dr.', 'Mr.', 'Dr.', 'Dr.', 'Dr.', 'Mr.', 'Dr.', 'Ian', 'Dr.', 'Mr.', 'Dr.', 'Mr.', 'Dr.', 'Mrs.', 'Miss', 'Dr.', 'Mrs.', 'Ms.', 'Dr.', 'Dr.', 'Mark', 'Mr.', 'Kari', 'Mrs.', 'Mrs.', 'Mr.', 'Mrs.', 'Dr.', 'Dr.', 'Mrs.', 'Dr.', 'Mrs.', 'Kara', 'Mark', 'John', 'Mrs.', 'Dr.', 'Mrs.', 'Mr.', 'Eric', 'John', 'Dr.', 'Mrs.', 'Dr.', 'Mr.', 'Paul', 'Dr.', 'Mrs.', 'Dr.', 'Dr.', 'Dr.', 'Adam', 'Mrs.', 'Ms.', 'Dr.', 'Mrs.', 'Dr.', 'Ms.', 'Mrs.', 'Mr.', 'Mr.', 'Mrs.', 'Dr.', 'Mrs.', 'Mr.', 'Dr.', 'Mr.', 'Dr.', 'Dr.', 'Paul', 'Mrs.', 'Cory', 'Mrs.', 'Dr.', 'Dr.', 'Dr.', 'Mr.', 'Mr.', 'Erin', 'Dr.', 'Dr.', 'Ms.', 'Mrs.', 'Mr.', 'Miss', 'Mr.', 'Mr.', 'Mr.', 'Ms.', 'Mrs.', 'Mr.', 'Mrs.', 'Miss', 'Ms.', 'Dr.', 'Dr.', 'Mrs.', 'Mr.', 'Mrs.', 'John', 'Lisa', 'Mr.', 'Mr.', 'Mrs.', 'Mr.', 'Jon', 'Mrs.', 'Dr.', 'Greg', 'Ms.', 'Mrs.', 'Mr.', 'Mrs.', 'Miss', 'Mr.', 'Dr.', 'Joe', 'Dr.', 'Mark', 'Dr.', 'Mrs.', 'Miss', 'Mr.', 'Mr.', 'Mr.', 'Mrs.', 'Dr.', 'Mr.', 'Mr.', 'Mr.', 'Adam', 'Mr.', 'Mr.', 'Dana', 'Dr.', 'Mr.', 'Dr.', 'Mrs.', 'Mr.', 'Erik', 'Mrs.', 'Dr.', 'Miss', 'Mrs.', 'Ms.', 'Mr.', 'Mr.', 'Mr.', 'John', 'Gail', 'Todd', 'Mr.', 'Mr.', 'Mrs.', 'Ms.', 'Ryan', 'Mrs.', 'Mrs.', 'Dr.', 'Erik', 'Omar', 'Mr.', 'Dr.', 'Cody', 'Ms.', 'Dr.', 'Mrs.', 'Dr.', 'Mr.', 'Mr.', 'Miss', 'Mark', 'Dr.', 'Dr.', 'Mr.', 'Mrs.', 'Mr.', 'Mr.', 'Mr.', 'Mrs.', 'Mr.', 'Mrs.', 'Mr.', 'Dr.', 'Dr.', 'Mr.', 'Mr.', 'Mr.', 'Dr.', 'Miss', 'Mrs.', 'Seth', 'Dr.', 'Mrs.', 'Ryan', 'Mrs.', 'Mrs.', 'Mrs.', 'Mr.', 'Mrs.', 'Dr.', 'Mr.', 'Mrs.', 'Ryan', 'Mrs.', 'Mr.', 'Dr.', 'Dr.', 'Mr.', 'Dr.', 'Dr.', 'Mrs.', 'Ms.', 'Dr.', 'Dr.', 'Mr.', 'Mr.', 'Ms.', 'Dr.', 'Dr.', 'Dr.', 'Mr.', 'Mrs.', 'Mr.', 'Lisa', 'Mr.', 'Dr.', 'Chad', 'Gina', 'Dr.', 'Mr.', 'Mr.', 'Mrs.', 'Amy', 'Mr.', 'Mrs.', 'Mr.', 'Dr.', 'Mr.', 'Dr.', 'Mrs.', 'Lisa', 'Mrs.', 'Dr.', 'Miss', 'Mr.', 'Mr.', 'Ms.', 'Mrs.', 'Mr.', 'Mrs.', 'Mr.', 'Dr.', 'Dr.', 'Mr.', 'Lisa', 'Dr.', 'Mr.', 'Ms.', 'Mrs.', 'Mr.', 'Dr.', 'Dr.', 'Mrs.', 'Sean', 'Dr.', 'Dr.', 'Mr.', 'Mr.', 'Miss', 'Miss', 'Dr.', 'Mr.', 'Dr.', 'Dr.', 'Mrs.', 'Mr.', 'Mrs.', 'Mrs.', 'Dr.', 'Mrs.', 'Dr.', 'Mr.', 'Mrs.', 'Mr.', 'Mr.', 'Todd', 'Dr.', 'Mrs.', 'Mrs.', 'Miss', 'Dr.', 'Mrs.', 'Mr.', 'Mr.', 'Mrs.', 'Adam', 'Mrs.', 'Ms.', 'Tony', 'Dr.', 'Miss', 'Toni', 'Ms.', 'Mr.', 'Mr.', 'Dr.', 'Ms.', 'Dr.', 'Mrs.', 'Dr.', 'Dr.', 'Dr.', 'Jose', 'Dr.', 'Dr.', 'Amy', 'John', 'Mrs.', 'Mr.', 'Mrs.', 'Mrs.', 'Miss', 'Mr.', 'Dr.', 'Mary', 'Mark', 'Dr.', 'Ms.', 'Ms.', 'Dr.', 'Mr.', 'Dr.', 'Miss', 'Mr.', 'Dr.', 'Troy', 'John', 'Dr.', 'Kim', 'Mr.', 'Mr.', 'Miss', 'Mary', 'Mrs.', 'Mrs.', 'Mrs.', 'Mr.', 'Dr.', 'Ms.', 'Mrs.', 'Anna', 'Mr.', 'Mrs.', 'Mr.', 'Mr.', 'Dr.', 'Mrs.', 'Dr.', 'Dr.']\n"
     ]
    }
   ],
   "source": [
    "# Add the prefixes less than or equal to 4 to a new list\n",
    "prefixes=[]\n",
    "for name in students_to_fix:\n",
    "    if len(name.split()[0]) <= 4:\n",
    "        prefixes.append(name.split()[0])\n",
    "\n",
    "print(prefixes)"
   ]
  },
  {
   "cell_type": "code",
   "execution_count": 9,
   "metadata": {},
   "outputs": [
    {
     "output_type": "stream",
     "name": "stdout",
     "text": [
      "['MD', 'MD', 'MD', 'III', 'DVM', 'MD', 'MD', 'MD', 'DDS', 'DVM', 'II', 'MD', 'MD', 'DDS', 'MD', 'DDS', 'MD', 'MD', 'PhD', 'MD', 'DVM', 'Lee', 'MD', 'DDS', 'MD', 'MD', 'MD', 'MD', 'MD', 'MD', 'DDS', 'Jr.', 'DVM', 'MD', 'MD', 'PhD', 'IV', 'MD', 'DDS', 'DDS', 'DDS', 'MD', 'DDS', 'MD', 'DVM', 'IV', 'MD', 'DDS', 'MD', 'MD', 'DVM', 'Jr.', 'MD', 'PhD', 'II', 'MD', 'DDS', 'DDS', 'DDS', 'Jr.', 'III', 'MD', 'MD', 'MD', 'DDS', 'Jr.', 'DDS', 'DVM', 'DDS', 'DVM', 'MD', 'DDS', 'PhD', 'DDS', 'DDS', 'Jr.', 'Jr.', 'DVM', 'DDS', 'MD', 'MD', 'DVM', 'DDS', 'DVM', 'Jr.', 'MD', 'Jr.', 'MD', 'PhD', 'PhD', 'DDS', 'MD', 'DDS', 'DVM', 'Cox', 'DVM', 'MD', 'Jr.', 'MD', 'DDS', 'MD', 'MD', 'DDS', 'DDS', 'Roy', 'DDS', 'DDS', 'DDS', 'II', 'PhD', 'MD', 'PhD', 'DDS', 'MD', 'DDS', 'Jr.', 'Day', 'DDS', 'MD', 'PhD', 'DDS', 'Jr.', 'DDS', 'MD', 'MD', 'MD', 'MD', 'DDS', 'MD', 'DDS', 'PhD', 'DVM', 'DDS', 'MD', 'MD', 'MD', 'DDS', 'Jr.', 'Jr.', 'DDS', 'Jr.', 'MD', 'MD', 'PhD', 'PhD', 'DDS', 'MD', 'MD', 'III', 'DVM', 'PhD', 'Jr.', 'II', 'DDS', 'DDS', 'DVM', 'MD', 'II', 'MD', 'DDS', 'MD', 'DDS', 'PhD', 'DDS', 'DDS', 'II', 'DVM', 'DDS', 'Jr.', 'DVM', 'MD', 'MD', 'DVM', 'MD', 'DDS', 'DVM', 'DDS', 'MD', 'II', 'PhD', 'MD', 'MD', 'MD', 'DDS', 'MD', 'MD', 'DDS', 'DDS', 'MD', 'DDS', 'PhD', 'DVM', 'DVM', 'MD', 'MD', 'DDS', 'DDS', 'PhD', 'MD', 'IV', 'DDS', 'Jr.', 'DDS', 'Jr.', 'MD', 'MD', 'MD', 'DDS', 'MD', 'DVM', 'DVM', 'DDS', 'DDS', 'Jr.', 'MD', 'MD', 'DDS', 'DDS', 'MD', 'MD', 'MD', 'MD', 'DVM', 'MD', 'DVM', 'DVM', 'MD', 'DDS', 'MD', 'Jr.', 'DDS', 'MD', 'MD', 'DVM', 'Jr.', 'DDS', 'MD', 'MD', 'PhD', 'DDS', 'Jr.', 'MD', 'DDS', 'MD', 'DDS', 'Jr.', 'Jr.', 'DVM', 'MD', 'DDS', 'PhD', 'MD', 'PhD', 'MD', 'V', 'II', 'MD', 'PhD', 'DVM', 'MD', 'MD', 'PhD', 'MD', 'MD', 'MD', 'DDS', 'DVM', 'Jr.', 'MD', 'Jr.', 'Jr.', 'DDS', 'PhD', 'DVM', 'DVM', 'MD', 'MD', 'MD', 'DVM', 'MD', 'DDS', 'MD', 'DDS', 'Jr.', 'MD', 'DDS', 'DDS', 'Jr.', 'DVM', 'DVM', 'DDS', 'MD', 'MD', 'DVM', 'MD', 'MD', 'MD', 'DDS', 'MD', 'Jr.', 'MD', 'MD', 'PhD', 'PhD', 'DDS', 'DDS', 'DDS', 'MD', 'MD', 'PhD', 'Jr.', 'MD', 'DDS', 'III', 'DVM', 'Jr.', 'DDS', 'DDS', 'MD', 'DVM', 'MD', 'DDS', 'MD', 'PhD', 'DDS', 'Lee', 'MD', 'Jr.', 'MD', 'DVM', 'DDS', 'DDS', 'MD', 'MD', 'DVM', 'DVM', 'DVM', 'MD', 'DDS', 'DVM', 'DDS', 'MD', 'MD', 'MD', 'DDS', 'PhD', 'DDS', 'DVM', 'DDS', 'DVM', 'DDS', 'DVM', 'DVM', 'DDS', 'II', 'MD', 'III', 'DDS', 'DDS', 'DVM', 'DVM', 'MD', 'Jr.', 'II', 'MD', 'PhD', 'PhD', 'MD', 'DDS', 'DVM', 'DVM', 'MD', 'MD', 'DVM', 'DVM', 'PhD', 'Jr.', 'Jr.', 'MD', 'MD', 'DDS', 'DDS', 'III', 'PhD', 'Jr.', 'MD', 'MD', 'MD', 'DDS', 'MD', 'DDS', 'MD', 'DVM', 'PhD', 'MD', 'MD', 'PhD', 'Jr.', 'MD', 'MD', 'MD', 'MD', 'MD', 'MD', 'DVM', 'DVM', 'PhD', 'DDS', 'DDS', 'MD', 'DDS', 'MD', 'DVM', 'DVM', 'DDS', 'DVM', 'DDS', 'MD', 'MD', 'DVM', 'DVM', 'DDS', 'Jr.', 'PhD', 'MD', 'DVM', 'DVM', 'DDS', 'DVM', 'MD', 'MD', 'MD', 'II', 'DDS', 'DDS', 'DDS', 'MD', 'Jr.', 'MD', 'Jr.', 'DDS', 'MD', 'MD', 'DVM', 'MD', 'DDS', 'DDS', 'PhD', 'Jr.', 'Jr.', 'Jr.', 'DDS', 'Jr.', 'MD', 'MD', 'DDS', 'MD', 'Jr.', 'MD', 'DDS', 'Jr.', 'DDS', 'MD', 'MD', 'Jr.', 'PhD', 'DDS', 'MD', 'II', 'PhD', 'DVM', 'MD', 'DDS', 'PhD', 'MD', 'MD', 'DDS', 'Jr.', 'MD', 'DVM', 'MD', 'MD', 'MD', 'MD', 'MD', 'DDS', 'DVM', 'PhD', 'DVM', 'III', 'Jr.', 'DVM', 'MD', 'MD', 'V', 'Jr.', 'MD', 'DVM', 'MD', 'DDS', 'DVM', 'DDS', 'Jr.', 'MD', 'PhD', 'DVM', 'DDS', 'PhD', 'MD', 'DDS', 'DDS', 'MD', 'DVM', 'IV', 'Jr.', 'MD', 'MD', 'Jr.', 'PhD', 'II', 'Jr.', 'MD', 'MD', 'MD', 'Jr.', 'MD', 'DVM', 'PhD', 'PhD', 'DDS', 'DDS', 'PhD', 'MD', 'Jr.', 'MD', 'DDS', 'MD', 'DDS', 'DVM', 'DDS', 'DVM', 'MD', 'MD', 'PhD', 'Jr.', 'Jr.', 'MD', 'DDS', 'MD', 'DVM', 'MD', 'DVM', 'DDS', 'PhD', 'PhD', 'Kim', 'DDS', 'PhD', 'DVM', 'PhD', 'DVM', 'DDS', 'MD', 'Jr.', 'PhD', 'MD', 'MD', 'II', 'III', 'MD', 'DDS', 'DDS', 'PhD', 'MD', 'DVM', 'MD', 'DDS', 'MD', 'DDS', 'Jr.', 'DDS', 'DDS', 'MD', 'IV', 'Jr.', 'DDS', 'DDS', 'Jr.', 'DVM', 'DVM', 'DVM', 'DVM', 'MD', 'DVM', 'DDS', 'MD', 'MD', 'DDS', 'DDS', 'DVM', 'III', 'DVM', 'MD', 'DVM', 'DDS', 'MD', 'MD', 'DVM', 'DVM', 'MD', 'III', 'DDS', 'MD', 'DDS', 'DVM', 'Jr.', 'III', 'MD', 'MD', 'PhD', 'DVM', 'DDS', 'MD', 'Jr.', 'DDS', 'MD', 'II', 'MD', 'Jr.', 'DDS', 'PhD', 'DDS', 'DDS', 'II', 'Jr.', 'DDS', 'MD', 'II', 'MD', 'MD', 'MD', 'Jr.', 'DDS', 'MD', 'DVM', 'PhD', 'MD', 'DVM', 'DDS', 'DDS', 'DVM', 'DDS', 'DDS', 'MD', 'MD', 'MD', 'MD', 'DDS', 'DVM', 'PhD', 'DDS', 'DDS', 'MD', 'MD', 'MD', 'DDS', 'DVM', 'MD', 'II', 'MD', 'Jr.', 'Jr.', 'MD', 'MD', 'MD', 'MD', 'DVM', 'MD', 'Jr.', 'PhD', 'PhD', 'PhD', 'DDS', 'Jr.', 'DVM', 'DDS', 'MD', 'DVM', 'PhD', 'MD', 'Jr.', 'Jr.', 'DVM', 'MD', 'DDS', 'MD', 'MD', 'Lee', 'MD', 'MD', 'MD', 'DDS', 'PhD', 'MD', 'PhD', 'MD', 'DVM', 'MD', 'MD', 'MD', 'DDS', 'II', 'DVM', 'Jr.', 'DVM', 'MD', 'Jr.', 'DDS', 'DVM', 'DDS', 'Jr.', 'DVM', 'Jr.', 'DDS', 'MD', 'PhD', 'DDS', 'DDS', 'DVM', 'MD', 'MD', 'PhD', 'DDS', 'DDS', 'DDS', 'DDS', 'MD', 'DVM', 'DVM', 'DVM', 'DDS', 'MD', 'MD', 'MD', 'Jr.', 'PhD', 'MD', 'Jr.', 'DVM', 'DDS', 'DVM', 'MD', 'DVM', 'MD', 'DDS', 'DDS', 'PhD', 'DDS', 'Jr.', 'DDS', 'MD', 'MD', 'MD', 'MD', 'DDS', 'DVM', 'MD', 'MD', 'PhD', 'MD', 'MD', 'II', 'MD', 'Jr.', 'PhD', 'MD', 'PhD', 'MD', 'MD', 'DDS', 'Jr.', 'PhD', 'DDS', 'MD', 'DDS', 'DDS', 'MD', 'MD', 'MD', 'Jr.', 'DDS', 'DDS', 'MD', 'MD', 'MD', 'MD', 'IV', 'Jr.', 'MD', 'DDS', 'MD', 'DDS', 'MD', 'MD', 'Jr.', 'MD', 'DVM', 'DVM', 'DVM', 'MD', 'MD', 'DVM', 'DVM', 'PhD', 'Jr.', 'PhD', 'DVM', 'Jr.', 'MD', 'MD', 'DDS', 'III', 'DVM', 'DDS', 'Jr.', 'MD', 'MD', 'Jr.', 'MD', 'MD', 'DVM', 'Jr.', 'Jr.', 'DDS', 'PhD', 'DDS', 'DDS', 'DDS', 'Jr.', 'Jr.', 'MD', 'DVM', 'DDS', 'MD', 'MD', 'PhD', 'DDS', 'MD', 'DDS', 'DVM', 'DVM', 'MD', 'DDS', 'MD', 'MD', 'MD', 'Jr.', 'MD', 'DVM', 'DDS', 'MD', 'PhD', 'MD', 'II', 'Jr.', 'III', 'MD', 'PhD', 'MD', 'MD', 'PhD', 'II', 'DDS', 'DVM', 'DDS', 'MD', 'DDS', 'MD', 'DVM', 'MD', 'III', 'DDS', 'MD', 'DVM', 'MD', 'II', 'DDS', 'MD', 'MD', 'DDS', 'MD', 'MD', 'DVM', 'MD', 'MD', 'MD', 'II', 'DDS', 'Jr.', 'MD', 'DDS', 'MD', 'MD', 'MD', 'MD', 'DDS', 'IV', 'MD', 'Jr.', 'III', 'DDS', 'DDS', 'MD', 'DDS', 'DVM', 'DVM', 'PhD', 'MD', 'II', 'Li', 'DVM', 'MD', 'DVM', 'DDS', 'DDS', 'DDS', 'DVM', 'MD', 'DVM', 'MD', 'MD', 'MD', 'MD', 'Jr.', 'DVM', 'MD', 'MD', 'MD', 'MD', 'DDS', 'MD', 'PhD', 'DDS', 'MD', 'MD', 'DDS', 'Jr.', 'DDS', 'DDS', 'DVM', 'DDS', 'DDS', 'MD', 'Jr.', 'DDS', 'PhD', 'Jr.', 'DDS']\n"
     ]
    }
   ],
   "source": [
    "# Add the suffixes less than or equal to 3 to a new list\n",
    "suffixes=[]\n",
    "for name in students_to_fix:\n",
    "    if len(name.split()[-1]) <= 3:\n",
    "        suffixes.append(name.split()[-1])\n",
    "\n",
    "print(suffixes)"
   ]
  },
  {
   "cell_type": "code",
   "execution_count": 25,
   "metadata": {},
   "outputs": [
    {
     "output_type": "execute_result",
     "data": {
      "text/plain": [
       "{'Adam',\n",
       " 'Amy',\n",
       " 'Anna',\n",
       " 'Anne',\n",
       " 'Carl',\n",
       " 'Chad',\n",
       " 'Cody',\n",
       " 'Cory',\n",
       " 'Dale',\n",
       " 'Dana',\n",
       " 'Dawn',\n",
       " 'Dr.',\n",
       " 'Emma',\n",
       " 'Eric',\n",
       " 'Erik',\n",
       " 'Erin',\n",
       " 'Gail',\n",
       " 'Gary',\n",
       " 'Gina',\n",
       " 'Greg',\n",
       " 'Ian',\n",
       " 'Jill',\n",
       " 'Jodi',\n",
       " 'Joe',\n",
       " 'John',\n",
       " 'Jon',\n",
       " 'Jose',\n",
       " 'Judy',\n",
       " 'Kara',\n",
       " 'Kari',\n",
       " 'Kim',\n",
       " 'Kyle',\n",
       " 'Leah',\n",
       " 'Lisa',\n",
       " 'Lori',\n",
       " 'Luke',\n",
       " 'Lynn',\n",
       " 'Marc',\n",
       " 'Mark',\n",
       " 'Mary',\n",
       " 'Mike',\n",
       " 'Miss',\n",
       " 'Mr.',\n",
       " 'Mrs.',\n",
       " 'Ms.',\n",
       " 'Noah',\n",
       " 'Omar',\n",
       " 'Paul',\n",
       " 'Ruth',\n",
       " 'Ryan',\n",
       " 'Sara',\n",
       " 'Sean',\n",
       " 'Seth',\n",
       " 'Tara',\n",
       " 'Tina',\n",
       " 'Todd',\n",
       " 'Toni',\n",
       " 'Tony',\n",
       " 'Troy'}"
      ]
     },
     "metadata": {},
     "execution_count": 25
    }
   ],
   "source": [
    "# Get the unique items in the \"prefixes\" list. \n",
    "set(prefixes)"
   ]
  },
  {
   "cell_type": "code",
   "execution_count": 26,
   "metadata": {},
   "outputs": [
    {
     "output_type": "execute_result",
     "data": {
      "text/plain": [
       "{'Cox',\n",
       " 'DDS',\n",
       " 'DVM',\n",
       " 'Day',\n",
       " 'II',\n",
       " 'III',\n",
       " 'IV',\n",
       " 'Jr.',\n",
       " 'Kim',\n",
       " 'Lee',\n",
       " 'Li',\n",
       " 'MD',\n",
       " 'PhD',\n",
       " 'Roy',\n",
       " 'V'}"
      ]
     },
     "metadata": {},
     "execution_count": 26
    }
   ],
   "source": [
    "# Get the unique items in the \"suffixes\" list\n",
    "set(suffixes)"
   ]
  },
  {
   "cell_type": "code",
   "execution_count": 27,
   "metadata": {
    "tags": []
   },
   "outputs": [],
   "source": [
    "# Strip \"Mrs.\" from the student names\n",
    "#for name in students_to_fix:\n",
    "    #print(name.strip(\"Mrs.\"))"
   ]
  },
  {
   "cell_type": "code",
   "execution_count": 28,
   "metadata": {},
   "outputs": [
    {
     "output_type": "execute_result",
     "data": {
      "text/plain": [
       "'Linda Santiago'"
      ]
     },
     "metadata": {},
     "execution_count": 28
    }
   ],
   "source": [
    "name = \"Dr. Linda Santiago\"\n",
    "name.replace(\"Dr. \",\"\")"
   ]
  },
  {
   "cell_type": "code",
   "execution_count": 38,
   "metadata": {},
   "outputs": [],
   "source": [
    "# Put the cleaned students' names in another list. \n",
    "student_names = student_data_df[\"student_name\"].tolist()"
   ]
  },
  {
   "cell_type": "code",
   "execution_count": 39,
   "metadata": {},
   "outputs": [],
   "source": [
    "prefixes_suffixes = [\"Dr. \",\"Mr. \",\"Mrs. \", \"Ms. \",\"Miss \",\" MD\",\" DDS\",\" DVM\",\" PhD\"]\n",
    "\n",
    "# Iterate through the \"prefixes_suffixes\" list and replace them with an empty space, \"\" when it appears in the student's name\n",
    "for word in prefixes_suffixes:\n",
    "    student_data_df[\"student_name\"] = student_data_df[\"student_name\"].str.replace(word,\"\")\n",
    "\n",
    "\n"
   ]
  },
  {
   "cell_type": "code",
   "execution_count": 40,
   "metadata": {},
   "outputs": [],
   "source": [
    "#student_data_df.head(10)"
   ]
  },
  {
   "cell_type": "code",
   "execution_count": 42,
   "metadata": {},
   "outputs": [
    {
     "output_type": "execute_result",
     "data": {
      "text/plain": [
       "151"
      ]
     },
     "metadata": {},
     "execution_count": 42
    }
   ],
   "source": [
    "# Create a new list and use it for the for loop to iterage through the list. \n",
    "students_fixed = []\n",
    "\n",
    "#Use an if statement to check the length of the name.\n",
    "\n",
    "#If the name is greater than or equal to 3, add the name to the list\n",
    "\n",
    "for name in student_names:\n",
    "    if len(name.split()) >= 3:\n",
    "        students_fixed.append(name)\n",
    "\n",
    "# Get the length of the students' names that are greater than or equal to 3.\n",
    "len(students_fixed)\n"
   ]
  },
  {
   "cell_type": "code",
   "execution_count": null,
   "metadata": {},
   "outputs": [],
   "source": []
  }
 ]
}